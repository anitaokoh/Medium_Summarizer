{
 "cells": [
  {
   "cell_type": "markdown",
   "metadata": {},
   "source": [
    "### Import libraries"
   ]
  },
  {
   "cell_type": "code",
   "execution_count": 1,
   "metadata": {},
   "outputs": [],
   "source": [
    "from bs4 import BeautifulSoup\n",
    "import requests\n",
    "\n",
    "import tldextract"
   ]
  },
  {
   "cell_type": "markdown",
   "metadata": {},
   "source": [
    "### Build scraper function"
   ]
  },
  {
   "cell_type": "code",
   "execution_count": 2,
   "metadata": {},
   "outputs": [],
   "source": [
    "def scrape_medium(url):\n",
    "    response = requests.get(url)\n",
    "    soup = BeautifulSoup(response.text, 'html.parser')\n",
    "    title = soup.find('h1')\n",
    "    topic = title.text\n",
    "#     head = first_find.h1.text\n",
    "    fetch = soup.find_all('p')\n",
    "    new = [i.text for i in fetch]\n",
    "    new_string = ' '.join(new)\n",
    "    return topic, new_string"
   ]
  },
  {
   "cell_type": "markdown",
   "metadata": {},
   "source": [
    "### Call Function"
   ]
  },
  {
   "cell_type": "code",
   "execution_count": 3,
   "metadata": {},
   "outputs": [],
   "source": [
    "url = 'https://gen.medium.com/impeachment-hearings-chilling-takeaway-trump-helped-russia-1b1851d3e04c'\n",
    "topic, new_string = scrape_medium(url)"
   ]
  },
  {
   "cell_type": "code",
   "execution_count": 4,
   "metadata": {},
   "outputs": [
    {
     "data": {
      "text/plain": [
       "'Impeachment Hearing’s Chilling Takeaway: Trump Helped Russia'"
      ]
     },
     "execution_count": 4,
     "metadata": {},
     "output_type": "execute_result"
    }
   ],
   "source": [
    "topic"
   ]
  },
  {
   "cell_type": "code",
   "execution_count": 5,
   "metadata": {},
   "outputs": [
    {
     "data": {
      "text/plain": [
       "'The first two public witnesses of the impeachment inquiry delivered testimony befitting public servants. Ambassador William Taylor and Deputy Assistant Secretary George Kent on Wednesday upheld their oath to defend the Constitution and delivered non-partisan testimony that detailed President Trump’s abuse of power to advance his personal goals while concurrently undermining U.S. vital interests. Taylor and Kent underscored that Trump’s decision to freeze millions of dollars in U.S. military aid “crucial” to Ukraine in exchange for politically motivated investigations didn’t serve U.S. vital interests, but did serve Russia’s. Taylor said that he did something he’s never done before — he wrote a cable directly to the secretary of state in which he noted the “folly” in freezing aid “at a time when hostilities were still active” and when Russia was “watching closely to gauge the level of American support for the Ukrainian government.” “The Russians, as I said at my deposition, would love to see the humiliation of President Zelensky at the hands of the Americans,” Taylor said. As the hearings unfolded, the diplomats explained that this security assistance is for equipment used to defend Ukraine from Russian aggression (and deter more of it). The freeze signaled wavering in U.S. support for Ukraine, which decreased Kyiv’s leverage in negotiations with the Russians over the conflict in Ukraine’s east. When the Ukrainians learned of the freeze, Taylor said Ukraine’s minister of defense was “desperate” to get the hold lifted, and Taylor said back then that the delay in assistance could cost lives. As Taylor testified, the Russians always look for vulnerabilities, and if they determined or suspected that U.S. support for Ukraine is lessened they could easily have taken advantage. Trump’s freeze on aid not only sent a negative message to Ukraine, but also a positive message to Russia and President Vladimir Putin about his position of strength when it comes to Russia’s ongoing, illegal activities in and against Ukraine. But, despite knowing the stakes, Trump prioritized his personal grievances: investigations into the Bidens and a conspiracy theory blaming Ukraine for the 2016 U.S. election hacks, which the witnesses said had no merit. Taylor shared for the first time that a member of his staff was told by Ambassador Gordon Sondland that “Trump was more concerned about investigations of Biden” than Ukraine. Translation: Trump cared more about his political needs than about protecting Ukraine and deterring Russia. Taylor and Kent acted like the dedicated public servants that they are, while Republican members of Congress acted like Trump’s publicists. Plus, both witnesses testified that Trump and his inner circle were not conducting government business as usual — they called it an “irregular channel.” Kent testified that efforts to “gin up politically motivated investigations” were “infecting” U.S. policy toward Ukraine. Taylor said that it was clear from Rudy Giuliani’s public statements alone that the investigations were to get help on a political campaign. These characterizations of the investigations rebuke Trump and his supporters’ claims that the call for investigations had anything to do with U.S. foreign policy objectives and anti-corruption work. Plus, Kent noted that Trump’s push for investigations into his political rivals “makes it more difficult” for U.S. officials to discourage foreign officials from doing the same thing. “I do not believe the United States should ask other countries to engage in selective, politically associated investigations or prosecutions against opponents of those in power, because such selective actions undermine the rule of law, regardless of the country,” Kent said The witnesses also pushed back strongly on White House Chief of Staff Mick Mulvaney’s claim that what Trump did was business as usual: “Get over it. There’s going to be political influence in foreign policy.” Taylor testified that in his almost three decades of service, he had never heard of aid being conditioned on a president’s personal needs. Taylor and Kent acted like the dedicated public servants that they are, while Republican members of Congress acted like Trump’s publicists and tried to shift the focus to the Bidens, the whistleblower, and already debunked conspiracy theories. The first public testimony of the impeachment inquiry painted a disturbing picture of Trump, willing to make Putin’s life easier and to put vital U.S. interests in harm’s way, all to help himself.'"
      ]
     },
     "execution_count": 5,
     "metadata": {},
     "output_type": "execute_result"
    }
   ],
   "source": [
    "new_string[:-11]"
   ]
  },
  {
   "cell_type": "markdown",
   "metadata": {},
   "source": [
    "### Getting the domain of the url"
   ]
  },
  {
   "cell_type": "code",
   "execution_count": 6,
   "metadata": {},
   "outputs": [],
   "source": [
    "ext = tldextract.extract('https://heartbeat.fritz.ai/working-with-geospatial-data-in-machine-learning-ad4097c7228d')\n"
   ]
  },
  {
   "cell_type": "code",
   "execution_count": 7,
   "metadata": {},
   "outputs": [
    {
     "data": {
      "text/plain": [
       "'fritz'"
      ]
     },
     "execution_count": 7,
     "metadata": {},
     "output_type": "execute_result"
    }
   ],
   "source": [
    "ext.domain"
   ]
  },
  {
   "cell_type": "code",
   "execution_count": null,
   "metadata": {},
   "outputs": [],
   "source": []
  }
 ],
 "metadata": {
  "kernelspec": {
   "display_name": "Python 3",
   "language": "python",
   "name": "python3"
  },
  "language_info": {
   "codemirror_mode": {
    "name": "ipython",
    "version": 3
   },
   "file_extension": ".py",
   "mimetype": "text/x-python",
   "name": "python",
   "nbconvert_exporter": "python",
   "pygments_lexer": "ipython3",
   "version": "3.7.5"
  }
 },
 "nbformat": 4,
 "nbformat_minor": 4
}
