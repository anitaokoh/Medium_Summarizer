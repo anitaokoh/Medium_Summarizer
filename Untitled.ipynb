{
 "cells": [
  {
   "cell_type": "code",
   "execution_count": 1,
   "metadata": {},
   "outputs": [],
   "source": [
    "with open('file.txt', 'r') as f:\n",
    "    file = f.read()"
   ]
  },
  {
   "cell_type": "code",
   "execution_count": 8,
   "metadata": {},
   "outputs": [],
   "source": [
    "import spacy\n",
    "nlp = spacy.load('en_core_web_sm', disable = ['tagger', 'ner'])"
   ]
  },
  {
   "cell_type": "code",
   "execution_count": 9,
   "metadata": {},
   "outputs": [],
   "source": [
    "work = nlp(file)"
   ]
  },
  {
   "cell_type": "code",
   "execution_count": 15,
   "metadata": {},
   "outputs": [],
   "source": [
    "\n",
    "clean_text = []\n",
    "for word in work:\n",
    "        if not word.is_stop:\n",
    "            if word.is_alpha:\n",
    "                clean_text.append(word.lemma_)\n",
    "               \n",
    "                "
   ]
  },
  {
   "cell_type": "code",
   "execution_count": 17,
   "metadata": {},
   "outputs": [
    {
     "data": {
      "text/plain": [
       "'public witness impeachment inquiry deliver testimony befit public servant Ambassador William Taylor Deputy Assistant Secretary George Kent Wednesday uphold oath defend Constitution deliver non partisan testimony detail President Trump abuse power advance personal goal concurrently undermine vital interest Taylor Kent underscore Trump decision freeze million dollar military aid crucial Ukraine exchange politically motivate investigation serve vital interest serve Russia Taylor say write cable directly secretary state note folly freeze aid time hostility active Russia watch closely gauge level American support Ukrainian government Russian say deposition love humiliation President Zelensky hand American Taylor say hearing unfold diplomat explain security assistance equipment defend Ukraine Russian aggression deter freeze signal waver support Ukraine decrease Kyiv leverage negotiation Russian conflict Ukraine east Ukrainian learn freeze Taylor say Ukraine minister defense desperate hold lift Taylor say delay assistance cost live Taylor testify Russian look vulnerability determine suspect support Ukraine lessen easily take advantage Trump freeze aid send negative message Ukraine positive message Russia President Vladimir Putin position strength come Russia ongoing illegal activity Ukraine despite know stake Trump prioritize personal grievance investigation Bidens conspiracy theory blame Ukraine election hack witness say merit Taylor share time member staff tell Ambassador Gordon Sondland Trump concern investigation Biden Ukraine Translation Trump care political need protect Ukraine deter Russia Taylor Kent act like dedicate public servant Republican member Congress act like Trump publicist Plus witness testify Trump inner circle conduct government business usual call irregular channel Kent testify effort gin politically motivate investigation infect policy Ukraine Taylor say clear Rudy Giuliani public statement investigation help political campaign characterization investigation rebuke Trump supporter claim investigation foreign policy objective anti corruption work Plus Kent note Trump push investigation political rival make difficult official discourage foreign official thing believe United States ask country engage selective politically associate investigation prosecution opponent power selective action undermine rule law regardless country Kent say witness push strongly White House Chief Staff Mick Mulvaney claim Trump business usual go political influence foreign policy Taylor testify decade service hear aid condition president personal need Taylor Kent act like dedicate public servant Republican member Congress act like Trump publicist try shift focus Bidens whistleblower debunk conspiracy theory public testimony impeachment inquiry paint disturb picture Trump will Putin life easy vital interest harm way help'"
      ]
     },
     "execution_count": 17,
     "metadata": {},
     "output_type": "execute_result"
    }
   ],
   "source": [
    "new_string = ' '.join(clean_text)\n",
    "new_string"
   ]
  },
  {
   "cell_type": "code",
   "execution_count": 20,
   "metadata": {},
   "outputs": [
    {
     "data": {
      "text/plain": [
       "'hi there  how    are   you. i am fine.'"
      ]
     },
     "execution_count": 20,
     "metadata": {},
     "output_type": "execute_result"
    }
   ],
   "source": [
    "'hi there  how    are   you.i am fine. '.replace('.', '. ').strip()"
   ]
  },
  {
   "cell_type": "code",
   "execution_count": null,
   "metadata": {},
   "outputs": [],
   "source": []
  }
 ],
 "metadata": {
  "kernelspec": {
   "display_name": "Python 3",
   "language": "python",
   "name": "python3"
  },
  "language_info": {
   "codemirror_mode": {
    "name": "ipython",
    "version": 3
   },
   "file_extension": ".py",
   "mimetype": "text/x-python",
   "name": "python",
   "nbconvert_exporter": "python",
   "pygments_lexer": "ipython3",
   "version": "3.7.5"
  }
 },
 "nbformat": 4,
 "nbformat_minor": 4
}
